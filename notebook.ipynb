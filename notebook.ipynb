{
 "cells": [
  {
   "cell_type": "markdown",
   "id": "05be6c72",
   "metadata": {},
   "source": [
    "# Link of the model on Kaggle \n",
    "https://www.kaggle.com/datasets/msnbehdani/mock-dataset-of-second-hand-car-sales"
   ]
  },
  {
   "cell_type": "code",
   "execution_count": 1,
   "id": "503bab2a",
   "metadata": {},
   "outputs": [],
   "source": [
    "import pandas as pd"
   ]
  },
  {
   "cell_type": "code",
   "execution_count": 2,
   "id": "7bdd66e9",
   "metadata": {},
   "outputs": [],
   "source": [
    "df = pd.read_csv('car_sales_data.csv')"
   ]
  },
  {
   "cell_type": "code",
   "execution_count": 3,
   "id": "dfc8c3ef",
   "metadata": {},
   "outputs": [
    {
     "data": {
      "text/plain": [
       "Manufacturer           0\n",
       "Model                  0\n",
       "Engine size            0\n",
       "Fuel type              0\n",
       "Year of manufacture    0\n",
       "Mileage                0\n",
       "Price                  0\n",
       "dtype: int64"
      ]
     },
     "execution_count": 3,
     "metadata": {},
     "output_type": "execute_result"
    }
   ],
   "source": [
    "df.isnull().sum()"
   ]
  },
  {
   "cell_type": "code",
   "execution_count": 4,
   "id": "e3494289",
   "metadata": {},
   "outputs": [
    {
     "data": {
      "text/html": [
       "<div>\n",
       "<style scoped>\n",
       "    .dataframe tbody tr th:only-of-type {\n",
       "        vertical-align: middle;\n",
       "    }\n",
       "\n",
       "    .dataframe tbody tr th {\n",
       "        vertical-align: top;\n",
       "    }\n",
       "\n",
       "    .dataframe thead th {\n",
       "        text-align: right;\n",
       "    }\n",
       "</style>\n",
       "<table border=\"1\" class=\"dataframe\">\n",
       "  <thead>\n",
       "    <tr style=\"text-align: right;\">\n",
       "      <th></th>\n",
       "      <th>Manufacturer</th>\n",
       "      <th>Model</th>\n",
       "      <th>Engine size</th>\n",
       "      <th>Fuel type</th>\n",
       "      <th>Year of manufacture</th>\n",
       "      <th>Mileage</th>\n",
       "      <th>Price</th>\n",
       "    </tr>\n",
       "  </thead>\n",
       "  <tbody>\n",
       "    <tr>\n",
       "      <th>0</th>\n",
       "      <td>Ford</td>\n",
       "      <td>Fiesta</td>\n",
       "      <td>1.0</td>\n",
       "      <td>Petrol</td>\n",
       "      <td>2002</td>\n",
       "      <td>127300</td>\n",
       "      <td>3074</td>\n",
       "    </tr>\n",
       "    <tr>\n",
       "      <th>1</th>\n",
       "      <td>Porsche</td>\n",
       "      <td>718 Cayman</td>\n",
       "      <td>4.0</td>\n",
       "      <td>Petrol</td>\n",
       "      <td>2016</td>\n",
       "      <td>57850</td>\n",
       "      <td>49704</td>\n",
       "    </tr>\n",
       "    <tr>\n",
       "      <th>2</th>\n",
       "      <td>Ford</td>\n",
       "      <td>Mondeo</td>\n",
       "      <td>1.6</td>\n",
       "      <td>Diesel</td>\n",
       "      <td>2014</td>\n",
       "      <td>39190</td>\n",
       "      <td>24072</td>\n",
       "    </tr>\n",
       "    <tr>\n",
       "      <th>3</th>\n",
       "      <td>Toyota</td>\n",
       "      <td>RAV4</td>\n",
       "      <td>1.8</td>\n",
       "      <td>Hybrid</td>\n",
       "      <td>1988</td>\n",
       "      <td>210814</td>\n",
       "      <td>1705</td>\n",
       "    </tr>\n",
       "    <tr>\n",
       "      <th>4</th>\n",
       "      <td>VW</td>\n",
       "      <td>Polo</td>\n",
       "      <td>1.0</td>\n",
       "      <td>Petrol</td>\n",
       "      <td>2006</td>\n",
       "      <td>127869</td>\n",
       "      <td>4101</td>\n",
       "    </tr>\n",
       "  </tbody>\n",
       "</table>\n",
       "</div>"
      ],
      "text/plain": [
       "  Manufacturer       Model  Engine size Fuel type  Year of manufacture  \\\n",
       "0         Ford      Fiesta          1.0    Petrol                 2002   \n",
       "1      Porsche  718 Cayman          4.0    Petrol                 2016   \n",
       "2         Ford      Mondeo          1.6    Diesel                 2014   \n",
       "3       Toyota        RAV4          1.8    Hybrid                 1988   \n",
       "4           VW        Polo          1.0    Petrol                 2006   \n",
       "\n",
       "   Mileage  Price  \n",
       "0   127300   3074  \n",
       "1    57850  49704  \n",
       "2    39190  24072  \n",
       "3   210814   1705  \n",
       "4   127869   4101  "
      ]
     },
     "execution_count": 4,
     "metadata": {},
     "output_type": "execute_result"
    }
   ],
   "source": [
    "df.head()"
   ]
  },
  {
   "cell_type": "code",
   "execution_count": 9,
   "id": "7d6a39e9",
   "metadata": {},
   "outputs": [
    {
     "name": "stdout",
     "output_type": "stream",
     "text": [
      "<class 'pandas.core.frame.DataFrame'>\n",
      "RangeIndex: 50000 entries, 0 to 49999\n",
      "Data columns (total 7 columns):\n",
      " #   Column               Non-Null Count  Dtype  \n",
      "---  ------               --------------  -----  \n",
      " 0   Manufacturer         50000 non-null  object \n",
      " 1   Model                50000 non-null  object \n",
      " 2   Engine size          50000 non-null  float64\n",
      " 3   Fuel type            50000 non-null  object \n",
      " 4   Year of manufacture  50000 non-null  int64  \n",
      " 5   Mileage              50000 non-null  int64  \n",
      " 6   Price                50000 non-null  int64  \n",
      "dtypes: float64(1), int64(3), object(3)\n",
      "memory usage: 2.7+ MB\n"
     ]
    }
   ],
   "source": [
    "df.info()"
   ]
  },
  {
   "cell_type": "code",
   "execution_count": null,
   "id": "84b1fbd8",
   "metadata": {},
   "outputs": [],
   "source": [
    "import numpy as np\n",
    "import joblib\n",
    "from sklearn.model_selection import train_test_split\n",
    "from sklearn.preprocessing import StandardScaler, OneHotEncoder\n",
    "from sklearn.compose import ColumnTransformer\n",
    "from sklearn.pipeline import Pipeline\n",
    "from sklearn.linear_model import LinearRegression, Ridge\n",
    "from sklearn.ensemble import RandomForestRegressor, GradientBoostingRegressor\n",
    "from sklearn.metrics import mean_absolute_error, r2_score\n",
    "import os"
   ]
  },
  {
   "cell_type": "code",
   "execution_count": null,
   "id": "a5917d6b",
   "metadata": {},
   "outputs": [
    {
     "name": "stdout",
     "output_type": "stream",
     "text": [
      "\n",
      "Step 2: Setting up feature engineering and preprocessing...\n"
     ]
    }
   ],
   "source": [
    "# --- 2. Feature Engineering & Preprocessing Setup ---\n",
    "print(\"\\nStep 2: Setting up feature engineering and preprocessing...\")\n",
    "\n",
    "# Create 'Age' feature, which is often more predictive than 'Year of manufacture'\n",
    "df['Age'] = 2024 - df['Year of manufacture']\n",
    "\n",
    "# Define features (X) and target (y)\n",
    "# We also drop the original 'Year of manufacture' column in favor of 'Age'.\n",
    "X = df.drop(columns=['Price', 'Year of manufacture'])\n",
    "y = df['Price']\n",
    "\n",
    "# Identify numerical and categorical columns\n",
    "numerical_features = ['Engine size', 'Mileage', 'Age']\n",
    "categorical_features = ['Manufacturer', 'Fuel type','Model']\n",
    "\n",
    "# Create a preprocessing pipeline for columns\n",
    "# For numerical features, we'll scale them.\n",
    "# For categorical features, we'll one-hot encode them.\n",
    "preprocessor = ColumnTransformer(\n",
    "    transformers=[\n",
    "        ('num', StandardScaler(), numerical_features),\n",
    "        ('cat', OneHotEncoder(handle_unknown='ignore'), categorical_features)\n",
    "    ],\n",
    "    remainder='passthrough' # Keep other columns if any (none in this case)\n",
    ")\n"
   ]
  },
  {
   "cell_type": "code",
   "execution_count": 23,
   "id": "2d51608c",
   "metadata": {},
   "outputs": [
    {
     "name": "stdout",
     "output_type": "stream",
     "text": [
      "\n",
      "Step 3: Defining, training, and evaluating models...\n",
      "Models and preprocessors will be saved in the 'saved_models' directory.\n",
      "\n",
      "--- Training LinearRegression ---\n",
      "Evaluation for LinearRegression:\n",
      "  Mean Absolute Error (MAE): 5786.31\n",
      "  R-squared (R²): 0.7102\n",
      "  ✅ Saved pipeline for LinearRegression to saved_models/LinearRegression_pipeline.joblib\n",
      "\n",
      "--- Training Ridge ---\n",
      "Evaluation for Ridge:\n",
      "  Mean Absolute Error (MAE): 5786.14\n",
      "  R-squared (R²): 0.7102\n",
      "  ✅ Saved pipeline for Ridge to saved_models/Ridge_pipeline.joblib\n",
      "\n",
      "--- Training RandomForest ---\n",
      "Evaluation for RandomForest:\n",
      "  Mean Absolute Error (MAE): 286.04\n",
      "  R-squared (R²): 0.9986\n",
      "  ✅ Saved pipeline for RandomForest to saved_models/RandomForest_pipeline.joblib\n",
      "\n",
      "--- Training GradientBoosting ---\n",
      "Evaluation for GradientBoosting:\n",
      "  Mean Absolute Error (MAE): 1037.39\n",
      "  R-squared (R²): 0.9899\n",
      "  ✅ Saved pipeline for GradientBoosting to saved_models/GradientBoosting_pipeline.joblib\n",
      "\n",
      "All models have been trained, evaluated, and saved.\n"
     ]
    }
   ],
   "source": [
    "\n",
    "# --- 3. Define, Train, and Evaluate Models ---\n",
    "print(\"\\nStep 3: Defining, training, and evaluating models...\")\n",
    "\n",
    "# Define the models we want to train\n",
    "models = {\n",
    "    \"LinearRegression\": LinearRegression(),\n",
    "    \"Ridge\": Ridge(),\n",
    "    \"RandomForest\": RandomForestRegressor(n_estimators=100, random_state=42, n_jobs=-1),\n",
    "    \"GradientBoosting\": GradientBoostingRegressor(n_estimators=100, random_state=42)\n",
    "}\n",
    "\n",
    "# Split data into training and testing sets\n",
    "X_train, X_test, y_train, y_test = train_test_split(X, y, test_size=0.2, random_state=42)\n",
    "\n",
    "# Create a directory to save models\n",
    "output_dir = 'saved_models'\n",
    "os.makedirs(output_dir, exist_ok=True)\n",
    "print(f\"Models and preprocessors will be saved in the '{output_dir}' directory.\")\n",
    "\n",
    "# Loop through models, create a pipeline, train, evaluate, and save\n",
    "for name, model in models.items():\n",
    "    print(f\"\\n--- Training {name} ---\")\n",
    "    \n",
    "    # Create the full pipeline by combining the preprocessor and the model\n",
    "    pipeline = Pipeline(steps=[\n",
    "        ('preprocessor', preprocessor),\n",
    "        ('regressor', model)\n",
    "    ])\n",
    "    \n",
    "    # Train the model\n",
    "    pipeline.fit(X_train, y_train)\n",
    "    \n",
    "    # Make predictions on the test set\n",
    "    y_pred = pipeline.predict(X_test)\n",
    "    \n",
    "    # Evaluate the model\n",
    "    mae = mean_absolute_error(y_test, y_pred)\n",
    "    r2 = r2_score(y_test, y_pred)\n",
    "    \n",
    "    print(f\"Evaluation for {name}:\")\n",
    "    print(f\"  Mean Absolute Error (MAE): {mae:.2f}\")\n",
    "    print(f\"  R-squared (R²): {r2:.4f}\")\n",
    "    \n",
    "    # --- 4. Save the Model Pipeline ---\n",
    "    # We save the entire pipeline. This file now contains all the\n",
    "    # logic for scaling, encoding, and predicting.\n",
    "    file_path = os.path.join(output_dir, f'{name}_pipeline.joblib')\n",
    "    joblib.dump(pipeline, file_path)\n",
    "    print(f\"  ✅ Saved pipeline for {name} to {file_path}\")\n",
    "\n",
    "print(\"\\nAll models have been trained, evaluated, and saved.\")"
   ]
  },
  {
   "cell_type": "code",
   "execution_count": null,
   "id": "fc934205",
   "metadata": {},
   "outputs": [
    {
     "name": "stdout",
     "output_type": "stream",
     "text": [
      "\n",
      "--- Loading and using the improved RandomForest model ---\n",
      "✅ Successfully loaded model from: saved_models/RandomForest_pipeline.joblib\n",
      "\n",
      "New unseen data (with 'Model' column):\n",
      "  Manufacturer  Model  Engine size Fuel type  Mileage  Age\n",
      "0          BMW     X5          4.4  Gasoline    35000    4\n",
      "1         Ford  Focus          1.6  Gasoline    80000    7\n",
      "2       Toyota  Camry          2.5    Hybrid    15000    1\n",
      "\n",
      "Predicted prices for the new data:\n",
      "  Manufacturer  Model  Engine size Fuel type  Mileage  Age Predicted Price\n",
      "0          BMW     X5          4.4  Gasoline    35000    4      $61,267.99\n",
      "1         Ford  Focus          1.6  Gasoline    80000    7      $23,767.89\n",
      "2       Toyota  Camry          2.5    Hybrid    15000    1      $72,083.01\n"
     ]
    }
   ],
   "source": [
    "import pandas as pd\n",
    "import joblib\n",
    "import os\n",
    "\n",
    "# Define the directory where models are saved\n",
    "output_dir = 'saved_models'\n",
    "\n",
    "print(\"\\n--- Loading and using the improved RandomForest model ---\")\n",
    "\n",
    "try:\n",
    "    # Load the pipeline that was trained WITH the 'Model' column\n",
    "    # Make sure the filename is correct\n",
    "    model_path = os.path.join(output_dir, 'RandomForest_pipeline.joblib')\n",
    "    loaded_pipeline = joblib.load(model_path)\n",
    "    print(f\"✅ Successfully loaded model from: {model_path}\")\n",
    "\n",
    "    # --- KEY CHANGE IS HERE ---\n",
    "    # Create new data that includes the 'Model' column.\n",
    "    # The columns must match the data the model was trained on.\n",
    "    new_data = pd.DataFrame({\n",
    "        'Manufacturer': ['BMW', 'Ford', 'Toyota'],\n",
    "        'Model': ['X5', 'Focus', 'Camry'], \n",
    "        'Engine size': [4.4, 1.6, 2.5],\n",
    "        'Fuel type': ['Gasoline', 'Gasoline', 'Hybrid'],\n",
    "        'Mileage': [35000, 80000, 15000],\n",
    "        'Age': [4, 7, 1] # Remember to use 'Age', not 'Year of manufacture'\n",
    "    })\n",
    "\n",
    "    print(\"\\nNew unseen data (with 'Model' column):\")\n",
    "    print(new_data)\n",
    "\n",
    "    # Use the loaded pipeline to make predictions.\n",
    "    # The pipeline handles all the scaling and encoding automatically.\n",
    "    predicted_prices = loaded_pipeline.predict(new_data)\n",
    "\n",
    "    print(\"\\nPredicted prices for the new data:\")\n",
    "    # Combine the input data with the predictions for a nice display\n",
    "    new_data['Predicted Price'] = predicted_prices\n",
    "    \n",
    "    # Format the price for better readability\n",
    "    new_data['Predicted Price'] = new_data['Predicted Price'].map(\"${:,.2f}\".format)\n",
    "    print(new_data)\n",
    "\n",
    "except FileNotFoundError:\n",
    "    print(f\"\\n❌ ERROR: Could not find the model file at '{model_path}'.\")\n",
    "    print(\"Please ensure the training script ran successfully and the file exists.\")\n",
    "except Exception as e:\n",
    "    print(f\"\\n❌ An error occurred: {e}\")"
   ]
  },
  {
   "cell_type": "code",
   "execution_count": null,
   "id": "33120d57",
   "metadata": {},
   "outputs": [],
   "source": []
  }
 ],
 "metadata": {
  "kernelspec": {
   "display_name": "Python 3",
   "language": "python",
   "name": "python3"
  },
  "language_info": {
   "codemirror_mode": {
    "name": "ipython",
    "version": 3
   },
   "file_extension": ".py",
   "mimetype": "text/x-python",
   "name": "python",
   "nbconvert_exporter": "python",
   "pygments_lexer": "ipython3",
   "version": "3.12.3"
  }
 },
 "nbformat": 4,
 "nbformat_minor": 5
}
